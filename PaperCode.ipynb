{
 "cells": [
  {
   "cell_type": "markdown",
   "id": "b2f2bb93",
   "metadata": {},
   "source": [
    "# DEMO\n",
    "## 1-Cargar imagen en formato matriz RGB"
   ]
  },
  {
   "cell_type": "code",
   "execution_count": 24,
   "id": "f18c771f",
   "metadata": {},
   "outputs": [],
   "source": [
    "from PIL import Image\n",
    "import numpy as np\n",
    "import matplotlib.pyplot as plt\n",
    "import matplotlib\n",
    "\n",
    "imagen=plt.imread(\"rgb.jpg\")\n",
    "planet_rojo=np.copy(imagen)\n",
    "planet_verde=np.copy(imagen)\n",
    "planet_azul=np.copy(imagen)# creo una copia de la imagen para preservar la original\n",
    "plt.imshow(imagen)"
   ]
  },
  {
   "cell_type": "markdown",
   "id": "71d299fc",
   "metadata": {},
   "source": [
    "## 2-Separar la matriz en tres (R,G,B)"
   ]
  },
  {
   "cell_type": "code",
   "execution_count": 28,
   "id": "930a8724",
   "metadata": {
    "scrolled": false
   },
   "outputs": [],
   "source": [
    "planeta_rojo = planet_rojo[:,:,0]\n",
    "#planet_rojo[:,:,1] = 0\n",
    "#planet_rojo[:,:,2] = 0\n",
    "plt.title(\"rojo\")\n",
    "plt.imshow(planeta_rojo)"
   ]
  },
  {
   "cell_type": "code",
   "execution_count": 14,
   "id": "abf4e898",
   "metadata": {},
   "outputs": [],
   "source": [
    "planeta_verde = planet_verde[:,:,1]\n",
    "#planet_verde[:,:,0] = 0\n",
    "#planet_verde[:,:,2] = 0\n",
    "plt.title(\"verde\")\n",
    "plt.imshow(planeta_verde)"
   ]
  },
  {
   "cell_type": "code",
   "execution_count": 15,
   "id": "809d8e50",
   "metadata": {},
   "outputs": [],
   "source": [
    "planeta_azul = planet_azul[:,:,2]\n",
    "#planet_azul[:,:,0] = 0\n",
    "#planet_azul[:,:,1] = 0\n",
    "plt.title(\"azul\")\n",
    "plt.imshow(planeta_azul)"
   ]
  },
  {
   "cell_type": "markdown",
   "id": "99554ecd",
   "metadata": {},
   "source": [
    "## 3-Aplicar SVD en las tres"
   ]
  },
  {
   "cell_type": "code",
   "execution_count": 16,
   "id": "fc887b24",
   "metadata": {},
   "outputs": [],
   "source": [
    "Ured,sred,Vred = np.linalg.svd(planeta_rojo)\n",
    "Ugreen,sgreen,Vgreen = np.linalg.svd(planeta_verde)\n",
    "Ublue,sblue,Vblue = np.linalg.svd(planeta_azul)"
   ]
  },
  {
   "cell_type": "markdown",
   "id": "e6edf5d5",
   "metadata": {},
   "source": [
    "## 4-Cambiar la resolución con nuestra variable, aplicando una matriz de identidad de sigma"
   ]
  },
  {
   "cell_type": "code",
   "execution_count": 17,
   "id": "d839ceb6",
   "metadata": {},
   "outputs": [],
   "source": [
    "n = 100\n",
    "Sred = np.zeros(np.shape(planeta_rojo))\n",
    "Sgreen = np.zeros(np.shape(planeta_verde))\n",
    "Sblue = np.zeros(np.shape(planeta_azul))\n",
    "for i in range(0, n):\n",
    "    Sred[i,i] = sred[i]\n",
    "    Sgreen[i,i] = sgreen[i]\n",
    "    Sblue[i,i] = sblue[i]\n",
    "print(Sred)"
   ]
  },
  {
   "cell_type": "markdown",
   "id": "c1212223",
   "metadata": {},
   "source": [
    "## 5-Recontruir cada matriz con el nuevo valor sigma"
   ]
  },
  {
   "cell_type": "code",
   "execution_count": 18,
   "id": "d1a38f8b",
   "metadata": {},
   "outputs": [],
   "source": [
    "recon_img_red = Ured @ Sred @ Vred\n",
    "plt.imshow(recon_img_red)"
   ]
  },
  {
   "cell_type": "code",
   "execution_count": 19,
   "id": "aab0d50e",
   "metadata": {},
   "outputs": [],
   "source": [
    "recon_img_green = Ugreen @ Sgreen @ Vgreen\n",
    "recon_img_blue = Ublue @ Sblue @ Vblue\n",
    "plt.imshow(recon_img_green)\n"
   ]
  },
  {
   "cell_type": "code",
   "execution_count": 20,
   "id": "5291bdde",
   "metadata": {},
   "outputs": [],
   "source": [
    "recon_img_green = Ugreen @ Sgreen @ Vgreen\n",
    "recon_img_blue = Ublue @ Sblue @ Vblue\n",
    "plt.imshow(recon_img_blue)"
   ]
  },
  {
   "cell_type": "markdown",
   "id": "ff22a424",
   "metadata": {},
   "source": [
    "## 6-Juntar las tres matrizes (R,G,B) para recontruir la imagen"
   ]
  },
  {
   "cell_type": "code",
   "execution_count": 21,
   "id": "8891044e",
   "metadata": {},
   "outputs": [],
   "source": [
    "finalImage=np.stack([recon_img_red,recon_img_green,recon_img_blue], axis=-1)\n",
    "plt.imshow(finalImage)"
   ]
  },
  {
   "cell_type": "markdown",
   "id": "319288f5",
   "metadata": {},
   "source": [
    "# Ejemplo extra"
   ]
  },
  {
   "cell_type": "code",
   "execution_count": 30,
   "id": "48516bae",
   "metadata": {},
   "outputs": [],
   "source": [
    "from PIL import Image\n",
    "import numpy as np\n",
    "import matplotlib.pyplot as plt\n",
    "import matplotlib\n",
    "\n",
    "\n",
    "img = Image.open('rgb.jpg')\n",
    "img = np.mean(img, 2)\n",
    "U,s,V = np.linalg.svd(img)\n",
    "n = 10\n",
    "S = np.zeros(np.shape(img))\n",
    "for i in range(0, n):\n",
    "    S[i,i] = s[i]\n",
    "\n",
    "recon_img = U @ S @ V\n",
    "fig, ax = plt.subplots(1, 2)\n",
    "\n",
    "ax[0].imshow(img)\n",
    "ax[0].axis('off')\n",
    "ax[0].set_title('Original')\n",
    "\n",
    "ax[1].imshow(recon_img)\n",
    "ax[1].axis('off')\n",
    "ax[1].set_title(f'Reconstructed n = {n}')\n",
    "\n",
    "plt.show()"
   ]
  },
  {
   "cell_type": "code",
   "execution_count": null,
   "id": "fdc75057",
   "metadata": {},
   "outputs": [],
   "source": []
  }
 ],
 "metadata": {
  "kernelspec": {
   "display_name": "Python 3",
   "language": "python",
   "name": "python3"
  },
  "language_info": {
   "codemirror_mode": {
    "name": "ipython",
    "version": 3
   },
   "file_extension": ".py",
   "mimetype": "text/x-python",
   "name": "python",
   "nbconvert_exporter": "python",
   "pygments_lexer": "ipython3",
   "version": "3.7.9"
  }
 },
 "nbformat": 4,
 "nbformat_minor": 5
}
